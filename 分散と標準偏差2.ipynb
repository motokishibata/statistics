{
 "cells": [
  {
   "cell_type": "code",
   "execution_count": 25,
   "metadata": {},
   "outputs": [],
   "source": [
    "oyatsu = [50,60,30,100,40,80]"
   ]
  },
  {
   "cell_type": "code",
   "execution_count": 26,
   "metadata": {},
   "outputs": [
    {
     "name": "stdout",
     "output_type": "stream",
     "text": [
      "分散： 566.6666666666666\n",
      "標準偏差： 23.804761428476166\n"
     ]
    }
   ],
   "source": [
    "from lib import calc\n",
    "\n",
    "data1 = calc(oyatsu)\n",
    "\n",
    "print(\"分散：\", data1[1])\n",
    "print(\"標準偏差：\", data1[2])"
   ]
  },
  {
   "cell_type": "code",
   "execution_count": 27,
   "metadata": {},
   "outputs": [
    {
     "name": "stdout",
     "output_type": "stream",
     "text": [
      "分散： 566.6666666666666\n",
      "標準偏差： 23.804761428476166\n",
      "元のデータの分散 × (1.2×1.2)： 815.9999999999999\n",
      "元のデータの標準偏差 × 1.2： 28.565713714171398\n"
     ]
    }
   ],
   "source": [
    "discount = [n - 10 for n in oyatsu]\n",
    "data2 = calc(discount)\n",
    "\n",
    "print(\"分散：\", data2[1])\n",
    "print(\"標準偏差：\", data2[2])\n",
    "\n",
    "print(\"元のデータの分散 × (1.2×1.2)：\", data2[1] * 1.2 * 1.2)\n",
    "print(\"元のデータの標準偏差 × 1.2：\", data2[2] * 1.2)"
   ]
  },
  {
   "cell_type": "code",
   "execution_count": 28,
   "metadata": {},
   "outputs": [
    {
     "name": "stdout",
     "output_type": "stream",
     "text": [
      "分散： 816.0\n",
      "標準偏差： 28.5657137141714\n"
     ]
    }
   ],
   "source": [
    "markup = [n * 1.2 for n in oyatsu]\n",
    "data3 = calc(markup)\n",
    "\n",
    "print(\"分散：\", data3[1])\n",
    "print(\"標準偏差：\", data3[2])"
   ]
  }
 ],
 "metadata": {
  "kernelspec": {
   "display_name": "Python 3.10.7 64-bit",
   "language": "python",
   "name": "python3"
  },
  "language_info": {
   "codemirror_mode": {
    "name": "ipython",
    "version": 3
   },
   "file_extension": ".py",
   "mimetype": "text/x-python",
   "name": "python",
   "nbconvert_exporter": "python",
   "pygments_lexer": "ipython3",
   "version": "3.10.7"
  },
  "orig_nbformat": 4,
  "vscode": {
   "interpreter": {
    "hash": "607db476e417971f05b607c2dd14e77ee8262c2c4c20dea422522c60605a222a"
   }
  }
 },
 "nbformat": 4,
 "nbformat_minor": 2
}
