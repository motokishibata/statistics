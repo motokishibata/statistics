{
 "cells": [
  {
   "cell_type": "markdown",
   "metadata": {},
   "source": [
    "- 偏差 = 「平均値から各値の差を全て足した値」の平均値  \n",
    "    データのばらつきはわからない  \n",
    "- 平均偏差 = 「平均値から各値の差の絶対値を全て足した値」の平均値  \n",
    "    データのばらつきがわかる。絶対値を求めるための手間がかかるデメリットがある  \n",
    "- 分散 = 「平均値から各値の差の絶対値を2乗して全て足した値」の平均値  \n",
    "    データのばらつきがわかる。  \n",
    "- 標準偏差 = 分散の平方根  \n",
    "    分散は2乗しているので元の値と比較等、計算ができない。単位を揃えることで可能になる。\n",
    "\n",
    "$$\n",
    "標準偏差=\\sqrt{分散} \\\\\n",
    "偏差値=(対象値-平均点)\\div 標準偏差\\times 10+50\n",
    "$$"
   ]
  }
 ],
 "metadata": {
  "kernelspec": {
   "display_name": "Python 3.10.7 64-bit",
   "language": "python",
   "name": "python3"
  },
  "language_info": {
   "name": "python",
   "version": "3.10.7"
  },
  "orig_nbformat": 4,
  "vscode": {
   "interpreter": {
    "hash": "607db476e417971f05b607c2dd14e77ee8262c2c4c20dea422522c60605a222a"
   }
  }
 },
 "nbformat": 4,
 "nbformat_minor": 2
}
