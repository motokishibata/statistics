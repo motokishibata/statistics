{
 "cells": [
  {
   "cell_type": "code",
   "execution_count": 5,
   "metadata": {},
   "outputs": [
    {
     "name": "stdout",
     "output_type": "stream",
     "text": [
      "              date   time     open     high      low    close  volume\n",
      "0       2020.01.02  00:00  108.717  108.726  108.717  108.721     8.0\n",
      "1       2020.01.02  00:01  108.725  108.725  108.720  108.720     9.0\n",
      "2       2020.01.02  00:02  108.720  108.720  108.719  108.719     2.0\n",
      "3       2020.01.02  00:03  108.721  108.742  108.721  108.741     7.0\n",
      "4       2020.01.02  00:04  108.740  108.743  108.739  108.740     5.0\n",
      "...            ...    ...      ...      ...      ...      ...     ...\n",
      "372289  2020.12.31  23:56  103.291  103.293  103.289  103.291    10.0\n",
      "372290  2020.12.31  23:57  103.292  103.292  103.289  103.291    13.0\n",
      "372291  2020.12.31  23:58  103.293  103.300  103.293  103.300    60.0\n",
      "372292  2020.12.31  23:59  103.296  103.308  103.293  103.307   126.0\n",
      "372293           \u001a    NaN      NaN      NaN      NaN      NaN     NaN\n",
      "\n",
      "[372294 rows x 7 columns]\n"
     ]
    }
   ],
   "source": [
    "import pandas as pd\n",
    "df = pd.read_csv(\n",
    "    'history/USDJPY/USDJPY_2020_all.csv',\n",
    "    names=['date', 'time', 'open', 'high', 'low', 'close', 'volume'])\n",
    "print(df)"
   ]
  },
  {
   "cell_type": "code",
   "execution_count": 9,
   "metadata": {},
   "outputs": [
    {
     "name": "stdout",
     "output_type": "stream",
     "text": [
      "188374\n"
     ]
    }
   ],
   "source": [
    "continue_count = 0\n",
    "for index, row in df.iterrows():\n",
    "    if index == 0:\n",
    "        continue\n",
    "    pre_row = df.iloc[index - 1]\n",
    "    pre_positive = pre_row['open'] < pre_row['close']\n",
    "    positive = row['open'] < row['close']\n",
    "\n",
    "    if pre_positive == positive:\n",
    "        continue_count += 1\n",
    "\n",
    "print(continue_count)"
   ]
  },
  {
   "cell_type": "code",
   "execution_count": 10,
   "metadata": {},
   "outputs": [
    {
     "ename": "TypeError",
     "evalue": "can only concatenate str (not \"float\") to str",
     "output_type": "error",
     "traceback": [
      "\u001b[1;31m---------------------------------------------------------------------------\u001b[0m",
      "\u001b[1;31mTypeError\u001b[0m                                 Traceback (most recent call last)",
      "Cell \u001b[1;32mIn [10], line 2\u001b[0m\n\u001b[0;32m      1\u001b[0m continue_rate \u001b[39m=\u001b[39m continue_count \u001b[39m/\u001b[39m \u001b[39mlen\u001b[39m(df)\n\u001b[1;32m----> 2\u001b[0m \u001b[39mprint\u001b[39m(\u001b[39m'\u001b[39;49m\u001b[39m足方向の継続率: \u001b[39;49m\u001b[39m'\u001b[39;49m \u001b[39m+\u001b[39;49m continue_rate)\n",
      "\u001b[1;31mTypeError\u001b[0m: can only concatenate str (not \"float\") to str"
     ]
    }
   ],
   "source": [
    "continue_rate = continue_count / len(df)\n",
    "print('足方向の継続率: ' + str(continue_rate))"
   ]
  }
 ],
 "metadata": {
  "kernelspec": {
   "display_name": "Python 3.10.7 64-bit",
   "language": "python",
   "name": "python3"
  },
  "language_info": {
   "codemirror_mode": {
    "name": "ipython",
    "version": 3
   },
   "file_extension": ".py",
   "mimetype": "text/x-python",
   "name": "python",
   "nbconvert_exporter": "python",
   "pygments_lexer": "ipython3",
   "version": "3.10.7"
  },
  "orig_nbformat": 4,
  "vscode": {
   "interpreter": {
    "hash": "607db476e417971f05b607c2dd14e77ee8262c2c4c20dea422522c60605a222a"
   }
  }
 },
 "nbformat": 4,
 "nbformat_minor": 2
}
