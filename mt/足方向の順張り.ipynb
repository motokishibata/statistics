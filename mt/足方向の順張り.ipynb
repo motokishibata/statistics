{
 "cells": [
  {
   "cell_type": "code",
   "execution_count": 10,
   "metadata": {},
   "outputs": [],
   "source": [
    "import pandas as pd\n",
    "df = pd.read_csv(\n",
    "    'history/USDJPY/USDJPY_2020_all.csv',\n",
    "    names=['date', 'time', 'open', 'high', 'low', 'close', 'volume'])"
   ]
  },
  {
   "cell_type": "code",
   "execution_count": 11,
   "metadata": {},
   "outputs": [
    {
     "name": "stdout",
     "output_type": "stream",
     "text": [
      "USDJPY 2020\n",
      "陽線の次が陽線になる確率: 0.4521037642544774\n",
      "陰線の次が陰線になる確率: 0.45787334972706184\n",
      "\n",
      "陽線の次の足の終値が前の足の終値を超える確率:  0.4495597049606177\n",
      "陰線の次の足の終値が前の足の終値を下回る確率:  0.46697710110047264\n"
     ]
    }
   ],
   "source": [
    "total_count = len(df)\n",
    "\n",
    "positive_count = 0\n",
    "positive_continue_count = 0\n",
    "positive_win_count = 0\n",
    "\n",
    "negative_count = 0\n",
    "negative_continue_count = 0\n",
    "negative_win_count = 0\n",
    "\n",
    "for index, row in df.iterrows():\n",
    "    if index == total_count - 1:\n",
    "        break\n",
    "\n",
    "    if row['open'] < row['close']:\n",
    "        positive_count += 1\n",
    "        next_row = df.iloc[index + 1]\n",
    "        if next_row['open'] < next_row['close']:\n",
    "            positive_continue_count += 1\n",
    "        if row['close'] < next_row['close']:\n",
    "            positive_win_count += 1\n",
    "    elif row['open'] > row['close']:\n",
    "        negative_count += 1\n",
    "        next_row = df.iloc[index + 1]\n",
    "        if next_row['open'] < next_row['close']:\n",
    "            negative_continue_count += 1\n",
    "        if row['close'] < next_row['close']:\n",
    "            negative_win_count += 1\n",
    "\n",
    "print(\"USDJPY 2020\")\n",
    "print(\"陽線の次が陽線になる確率: \" + str(positive_continue_count / positive_count))\n",
    "print(\"陰線の次が陰線になる確率: \" + str(negative_continue_count / negative_count))\n",
    "print(\"\")\n",
    "print(\"陽線の次の足の終値が前の足の終値を超える確率: \", str(positive_win_count / positive_count))\n",
    "print(\"陰線の次の足の終値が前の足の終値を下回る確率: \", str(negative_win_count / negative_count))\n"
   ]
  },
  {
   "cell_type": "code",
   "execution_count": 12,
   "metadata": {},
   "outputs": [
    {
     "name": "stdout",
     "output_type": "stream",
     "text": [
      "EURUSD 2020\n",
      "陽線の次が陽線になる確率: 0.4633647060188004\n",
      "陰線の次が陰線になる確率: 0.47075134428135446\n",
      "\n",
      "陽線の次の足の終値が前の足の終値を超える確率:  0.4610972901190538\n",
      "陰線の次の足の終値が前の足の終値を下回る確率:  0.4790175846533934\n"
     ]
    }
   ],
   "source": [
    "df3 = pd.read_csv(\n",
    "    'history/EURUSD/EURUSD_2020_all.csv',\n",
    "    names=['date', 'time', 'open', 'high', 'low', 'close', 'volume'])\n",
    "total_count = len(df3)\n",
    "\n",
    "positive_count = 0\n",
    "positive_continue_count = 0\n",
    "positive_win_count = 0\n",
    "\n",
    "negative_count = 0\n",
    "negative_continue_count = 0\n",
    "negative_win_count = 0\n",
    "\n",
    "for index, row in df3.iterrows():\n",
    "    if index == total_count - 1:\n",
    "        break\n",
    "\n",
    "    if row['open'] < row['close']:\n",
    "        positive_count += 1\n",
    "        next_row = df3.iloc[index + 1]\n",
    "        if next_row['open'] < next_row['close']:\n",
    "            positive_continue_count += 1\n",
    "        if row['close'] < next_row['close']:\n",
    "            positive_win_count += 1\n",
    "    elif row['open'] > row['close']:\n",
    "        negative_count += 1\n",
    "        next_row = df3.iloc[index + 1]\n",
    "        if next_row['open'] < next_row['close']:\n",
    "            negative_continue_count += 1\n",
    "        if row['close'] < next_row['close']:\n",
    "            negative_win_count += 1\n",
    "\n",
    "print(\"EURUSD 2020\")\n",
    "print(\"陽線の次が陽線になる確率: \" + str(positive_continue_count / positive_count))\n",
    "print(\"陰線の次が陰線になる確率: \" + str(negative_continue_count / negative_count))\n",
    "print(\"\")\n",
    "print(\"陽線の次の足の終値が前の足の終値を超える確率: \", str(positive_win_count / positive_count))\n",
    "print(\"陰線の次の足の終値が前の足の終値を下回る確率: \", str(negative_win_count / negative_count))\n"
   ]
  },
  {
   "cell_type": "code",
   "execution_count": 13,
   "metadata": {},
   "outputs": [
    {
     "name": "stdout",
     "output_type": "stream",
     "text": [
      "EURJPY 2020\n",
      "陽線の次が陽線になる確率: 0.47000937470177784\n",
      "陰線の次が陰線になる確率: 0.48660854893138356\n",
      "\n",
      "陽線の次の足の終値が前の足の終値を超える確率:  0.46969501344455733\n",
      "陰線の次の足の終値が前の足の終値を下回る確率:  0.4895838020247469\n"
     ]
    }
   ],
   "source": [
    "df2 = pd.read_csv(\n",
    "    'history/EURJPY/EURJPY_2020_all.csv',\n",
    "    names=['date', 'time', 'open', 'high', 'low', 'close', 'volume'])\n",
    "total_count = len(df2)\n",
    "\n",
    "positive_count = 0\n",
    "positive_continue_count = 0\n",
    "positive_win_count = 0\n",
    "\n",
    "negative_count = 0\n",
    "negative_continue_count = 0\n",
    "negative_win_count = 0\n",
    "\n",
    "for index, row in df2.iterrows():\n",
    "    if index == total_count - 1:\n",
    "        break\n",
    "\n",
    "    if row['open'] < row['close']:\n",
    "        positive_count += 1\n",
    "        next_row = df2.iloc[index + 1]\n",
    "        if next_row['open'] < next_row['close']:\n",
    "            positive_continue_count += 1\n",
    "        if row['close'] < next_row['close']:\n",
    "            positive_win_count += 1\n",
    "    elif row['open'] > row['close']:\n",
    "        negative_count += 1\n",
    "        next_row = df2.iloc[index + 1]\n",
    "        if next_row['open'] < next_row['close']:\n",
    "            negative_continue_count += 1\n",
    "        if row['close'] < next_row['close']:\n",
    "            negative_win_count += 1\n",
    "\n",
    "print(\"EURJPY 2020\")\n",
    "print(\"陽線の次が陽線になる確率: \" + str(positive_continue_count / positive_count))\n",
    "print(\"陰線の次が陰線になる確率: \" + str(negative_continue_count / negative_count))\n",
    "print(\"\")\n",
    "print(\"陽線の次の足の終値が前の足の終値を超える確率: \", str(positive_win_count / positive_count))\n",
    "print(\"陰線の次の足の終値が前の足の終値を下回る確率: \", str(negative_win_count / negative_count))\n"
   ]
  }
 ],
 "metadata": {
  "kernelspec": {
   "display_name": "Python 3.10.7 64-bit",
   "language": "python",
   "name": "python3"
  },
  "language_info": {
   "codemirror_mode": {
    "name": "ipython",
    "version": 3
   },
   "file_extension": ".py",
   "mimetype": "text/x-python",
   "name": "python",
   "nbconvert_exporter": "python",
   "pygments_lexer": "ipython3",
   "version": "3.10.7"
  },
  "orig_nbformat": 4,
  "vscode": {
   "interpreter": {
    "hash": "607db476e417971f05b607c2dd14e77ee8262c2c4c20dea422522c60605a222a"
   }
  }
 },
 "nbformat": 4,
 "nbformat_minor": 2
}
