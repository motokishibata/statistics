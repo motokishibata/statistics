{
 "cells": [
  {
   "attachments": {},
   "cell_type": "markdown",
   "metadata": {},
   "source": [
    "H0 帰無仮説：成立しないと思われる仮説\n",
    "H1 対立仮説：成立すると思われる仮説\n",
    "\n",
    "まず一旦帰無仮説が成り立つものとして分布を調べる。その結果、帰無仮説が不成立であることを示すことにより対立仮説が採用できる。"
   ]
  },
  {
   "attachments": {},
   "cell_type": "markdown",
   "metadata": {},
   "source": [
    "# 例題\n",
    "製品を製造している食品工場がある。\n",
    "この製品は天然素材のため個体ごとのばらつきがあるが、カタログ上では平均重量が200gとなっている。\n",
    "またこの製品の重量の分布は正規分布である。\n",
    "\n",
    "ある日、納品先から「最近製品の重量がカタログと異なるのではないか？」というクレームが来た。\n",
    "実際に工場でサンプルを20個抽出して重量を計測すると、標本重量が190gで標本分散が400だった。\n",
    "これを仮説検定を用いて検証する。"
   ]
  },
  {
   "attachments": {},
   "cell_type": "markdown",
   "metadata": {},
   "source": [
    "## 仮説\n",
    "- H0 : この製品の平均重量は200gである\n",
    "- H1 : この製品の平均重量は200gでない"
   ]
  },
  {
   "cell_type": "code",
   "execution_count": 1,
   "metadata": {},
   "outputs": [
    {
     "name": "stdout",
     "output_type": "stream",
     "text": [
      "198.9193520190734 201.0806479809266\n"
     ]
    }
   ],
   "source": [
    "import numpy as np\n",
    "from scipy import stats\n",
    "\n",
    "# 母平均?\n",
    "mu = 200\n",
    "\n",
    "# 標本サイズ\n",
    "N = 20\n",
    "\n",
    "# 標本分散\n",
    "S2 = 400\n",
    "\n",
    "# 自由度N-1のt分布の上側2.5%点\n",
    "t_a = stats.t.pdf(0.975, N - 1)\n",
    "\n",
    "# 標本平均が95%で収まる区間\n",
    "x_0 = mu - (t_a * (np.sqrt(S2 / N)))\n",
    "x_1 = mu + (t_a * (np.sqrt(S2 / N)))\n",
    "\n",
    "print(x_0, x_1)"
   ]
  }
 ],
 "metadata": {
  "kernelspec": {
   "display_name": "Python 3",
   "language": "python",
   "name": "python3"
  },
  "language_info": {
   "codemirror_mode": {
    "name": "ipython",
    "version": 3
   },
   "file_extension": ".py",
   "mimetype": "text/x-python",
   "name": "python",
   "nbconvert_exporter": "python",
   "pygments_lexer": "ipython3",
   "version": "3.10.7"
  },
  "orig_nbformat": 4,
  "vscode": {
   "interpreter": {
    "hash": "607db476e417971f05b607c2dd14e77ee8262c2c4c20dea422522c60605a222a"
   }
  }
 },
 "nbformat": 4,
 "nbformat_minor": 2
}
