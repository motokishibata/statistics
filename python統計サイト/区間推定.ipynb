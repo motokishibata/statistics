{
 "cells": [
  {
   "cell_type": "code",
   "execution_count": 3,
   "metadata": {},
   "outputs": [
    {
     "name": "stdout",
     "output_type": "stream",
     "text": [
      "147.02357928358197 149.186420716418\n"
     ]
    }
   ],
   "source": [
    "samples = [128.4, 135.9, 126.5, 182.4, 157.6, 100.6, 176.4, 126.6, 146.1, 138.0, 167.7, 128.1, 156.1, 183.5, 133.2, 162.4, 169.0, 161.6, 127.7, 154.3]\n",
    "\n",
    "import numpy as np\n",
    "from scipy import stats\n",
    "\n",
    "# 母分散\n",
    "sigma2 = 400\n",
    "# 標本サイズ\n",
    "n = len(samples)\n",
    "# 標本平均\n",
    "sample_mean = np.mean(samples)\n",
    "\n",
    "# 標準正規分布の上側2.5%点\n",
    "z_a = stats.norm.pdf(x=1, loc=0, scale=0.975)\n",
    "\n",
    "# 信頼区間\n",
    "x_0 = sample_mean - (z_a * (np.sqrt(sigma2 / n)))\n",
    "x_1 = sample_mean + (z_a * (np.sqrt(sigma2 / n)))\n",
    "\n",
    "print(x_0, x_1)\n"
   ]
  }
 ],
 "metadata": {
  "kernelspec": {
   "display_name": "Python 3",
   "language": "python",
   "name": "python3"
  },
  "language_info": {
   "codemirror_mode": {
    "name": "ipython",
    "version": 3
   },
   "file_extension": ".py",
   "mimetype": "text/x-python",
   "name": "python",
   "nbconvert_exporter": "python",
   "pygments_lexer": "ipython3",
   "version": "3.10.7"
  },
  "orig_nbformat": 4,
  "vscode": {
   "interpreter": {
    "hash": "607db476e417971f05b607c2dd14e77ee8262c2c4c20dea422522c60605a222a"
   }
  }
 },
 "nbformat": 4,
 "nbformat_minor": 2
}
