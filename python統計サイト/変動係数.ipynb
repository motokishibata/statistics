{
 "cells": [
  {
   "cell_type": "code",
   "execution_count": 5,
   "metadata": {},
   "outputs": [
    {
     "name": "stdout",
     "output_type": "stream",
     "text": [
      "3.135454413664037\n",
      "0.30855568633594804\n"
     ]
    }
   ],
   "source": [
    "import numpy as np\n",
    "kuki =  [25.6,28.4,29.8,27.0,23.7,30.8,29.8,28.3,29.2,36.5,30.7]\n",
    "kaben = [2.5,3.1,3.0,2.9,3.5,2.3,2.7,2.8,3.1,2.8,2.7]\n",
    "\n",
    "kuki_std = np.std(kuki) \n",
    "kaben_std = np.std(kaben)\n",
    "\n",
    "\n",
    "print(kuki_std) # 3.13\n",
    "print(kaben_std) # 0.30"
   ]
  },
  {
   "cell_type": "code",
   "execution_count": 10,
   "metadata": {},
   "outputs": [
    {
     "name": "stdout",
     "output_type": "stream",
     "text": [
      "0.1078486508764991\n",
      "0.10809275635972701\n",
      "0.1078486508764991\n",
      "0.10809275635972701\n"
     ]
    }
   ],
   "source": [
    "from scipy import stats\n",
    "print(stats.variation(kuki))\n",
    "print(stats.variation(kaben))\n",
    "\n",
    "kuki_mean = np.mean(kuki)\n",
    "kaben_mean = np.mean(kaben)\n",
    "kuki_variation = kuki_std / kuki_mean\n",
    "kaben_variation = kaben_std / kaben_mean\n",
    "\n",
    "print(kuki_variation)\n",
    "print(kaben_variation)"
   ]
  },
  {
   "attachments": {},
   "cell_type": "markdown",
   "metadata": {},
   "source": [
    "工場の部品サイズのばらつきを求める"
   ]
  },
  {
   "cell_type": "code",
   "execution_count": 12,
   "metadata": {},
   "outputs": [],
   "source": [
    "A=[500.04,500.13,499.98,499.88,499.81,500.07,499.92,500.02,500.04,499.87,499.95]\n",
    "B=[1000.37,1000.49,999.29,1000.05,999.97,1000.93,999.7,1000.01,1000.26,999.86,1000.46]\n",
    "C=[2000.22,1999.33,1998.71,1999.52,2000.46,2000.61,2000.08,2000.45,1999.43,2000.8,1999.97]"
   ]
  },
  {
   "cell_type": "code",
   "execution_count": 13,
   "metadata": {},
   "outputs": [
    {
     "name": "stdout",
     "output_type": "stream",
     "text": [
      "0.09266486313325058\n",
      "0.42240163410652737\n",
      "0.6130522472442487\n"
     ]
    }
   ],
   "source": [
    "# 標準偏差\n",
    "import numpy as np\n",
    "print(np.std(A))\n",
    "print(np.std(B))\n",
    "print(np.std(C))"
   ]
  },
  {
   "cell_type": "code",
   "execution_count": 14,
   "metadata": {},
   "outputs": [
    {
     "name": "stdout",
     "output_type": "stream",
     "text": [
      "0.0001853394987127969\n",
      "0.0004223482646439951\n",
      "0.00030653197559620384\n"
     ]
    }
   ],
   "source": [
    "# 変動係数\n",
    "from scipy import stats\n",
    "print(stats.variation(A))\n",
    "print(stats.variation(B))\n",
    "print(stats.variation(C))"
   ]
  },
  {
   "attachments": {},
   "cell_type": "markdown",
   "metadata": {},
   "source": [
    "標準偏差は対象データの単位で差分の大きさを測ることはできるが異なるサイズや単位同士の比較ができないため、こういった場合は変動係数を使用する。"
   ]
  }
 ],
 "metadata": {
  "kernelspec": {
   "display_name": "Python 3",
   "language": "python",
   "name": "python3"
  },
  "language_info": {
   "codemirror_mode": {
    "name": "ipython",
    "version": 3
   },
   "file_extension": ".py",
   "mimetype": "text/x-python",
   "name": "python",
   "nbconvert_exporter": "python",
   "pygments_lexer": "ipython3",
   "version": "3.10.7 (tags/v3.10.7:6cc6b13, Sep  5 2022, 14:08:36) [MSC v.1933 64 bit (AMD64)]"
  },
  "orig_nbformat": 4,
  "vscode": {
   "interpreter": {
    "hash": "607db476e417971f05b607c2dd14e77ee8262c2c4c20dea422522c60605a222a"
   }
  }
 },
 "nbformat": 4,
 "nbformat_minor": 2
}
