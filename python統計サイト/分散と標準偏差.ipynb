{
 "cells": [
  {
   "cell_type": "code",
   "execution_count": 1,
   "metadata": {},
   "outputs": [
    {
     "data": {
      "text/plain": [
       "10.530612244897961"
      ]
     },
     "execution_count": 1,
     "metadata": {},
     "output_type": "execute_result"
    }
   ],
   "source": [
    "import numpy as np\n",
    "data = [2, 5, 3, 10, 7, 2, 10]\n",
    "print(\"平均偏差\")\n",
    "np.var(data)"
   ]
  },
  {
   "cell_type": "code",
   "execution_count": 2,
   "metadata": {},
   "outputs": [
    {
     "name": "stdout",
     "output_type": "stream",
     "text": [
      "45.90972222222222\n",
      "132.24305555555557\n"
     ]
    }
   ],
   "source": [
    "import pandas as pd\n",
    "from matplotlib import pyplot as plt\n",
    " \n",
    "# クラスA、Bの生徒の身長\n",
    "A=[165,168,171,177,171,162,163,166,168,187,172,177]\n",
    "B=[188,161,174,155,184,187,160,158,178,175,160,165]\n",
    " \n",
    "# 分散を算出\n",
    "print(\"分散\")\n",
    "print(np.var(A)) # 45.9...\n",
    "print(np.var(B)) # 132.2..."
   ]
  },
  {
   "cell_type": "code",
   "execution_count": 5,
   "metadata": {},
   "outputs": [
    {
     "name": "stdout",
     "output_type": "stream",
     "text": [
      "標準偏差\n",
      "6.775671348451179\n",
      "11.49969806366913\n"
     ]
    }
   ],
   "source": [
    "# 標準偏差を算出\n",
    "print(\"標準偏差\")\n",
    "print(np.std(A)) # 6.77...\n",
    "print(np.std(B)) # 11.49..."
   ]
  }
 ],
 "metadata": {
  "kernelspec": {
   "display_name": "Python 3",
   "language": "python",
   "name": "python3"
  },
  "language_info": {
   "codemirror_mode": {
    "name": "ipython",
    "version": 3
   },
   "file_extension": ".py",
   "mimetype": "text/x-python",
   "name": "python",
   "nbconvert_exporter": "python",
   "pygments_lexer": "ipython3",
   "version": "3.10.7"
  },
  "orig_nbformat": 4,
  "vscode": {
   "interpreter": {
    "hash": "607db476e417971f05b607c2dd14e77ee8262c2c4c20dea422522c60605a222a"
   }
  }
 },
 "nbformat": 4,
 "nbformat_minor": 2
}
