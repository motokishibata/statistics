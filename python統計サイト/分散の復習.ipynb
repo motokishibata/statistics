{
 "cells": [
  {
   "cell_type": "code",
   "execution_count": 2,
   "metadata": {},
   "outputs": [],
   "source": [
    "import numpy as np\n",
    "import matplotlib.pyplot as plt"
   ]
  },
  {
   "attachments": {},
   "cell_type": "markdown",
   "metadata": {},
   "source": [
    "平均が同じでもデータの分布が異なることは多い。"
   ]
  },
  {
   "cell_type": "code",
   "execution_count": 23,
   "metadata": {},
   "outputs": [],
   "source": [
    "# 平均を求める関数\n",
    "def mean(data):\n",
    "    sum = 0\n",
    "    for d in data:\n",
    "        sum += d\n",
    "    return sum / len(data)\n",
    "\n",
    "#分散を求める関数\n",
    "def var(data):\n",
    "    m = mean(data)\n",
    "    sum = 0\n",
    "    for d in data:\n",
    "       # (各変数 - 平均値)の二乗\n",
    "       sum += (d - m)**2\n",
    "    return sum / len(data)\n",
    "\n",
    "# 標準偏差を求める関数\n",
    "def std(data):\n",
    "    # 分散の平方根\n",
    "    return var(data)**0.5"
   ]
  },
  {
   "cell_type": "code",
   "execution_count": 24,
   "metadata": {},
   "outputs": [
    {
     "name": "stdout",
     "output_type": "stream",
     "text": [
      "分散\n",
      " 10.530612244897961 \n",
      " 10.530612244897961\n",
      "標準偏差\n",
      " 3.2450904833144425 \n",
      " 3.2450904833144425\n"
     ]
    }
   ],
   "source": [
    "data = [2, 5, 3, 10, 7, 2, 10]\n",
    "\n",
    "print(\"分散\\n\", var(data), \"\\n\", np.var(data))\n",
    "print(\"標準偏差\\n\", std(data), \"\\n\", np.std(data))"
   ]
  },
  {
   "attachments": {},
   "cell_type": "markdown",
   "metadata": {},
   "source": [
    "共分散は2種類のデータの関係を示す指標。\n",
    "2つのデータの数が揃っている必要がある。\n",
    "\n",
    "求め方\n",
    "1. それぞれの変数の平均を求める\n",
    "1. それぞれの変数の偏差を求める\n",
    "1. 偏差の積の平均値 = 共分散となる"
   ]
  },
  {
   "cell_type": "code",
   "execution_count": 27,
   "metadata": {},
   "outputs": [],
   "source": [
    "def cov(data1, data2):\n",
    "    m1 = mean(data1)\n",
    "    m2 = mean(data2)\n",
    "\n",
    "    sum = 0\n",
    "    for i, j in zip(data1, data2):\n",
    "        d1 = i - m1\n",
    "        d2 = j - m2\n",
    "        sum += (d1 * d2)\n",
    "    \n",
    "    return sum / len(data1)"
   ]
  },
  {
   "cell_type": "code",
   "execution_count": 28,
   "metadata": {},
   "outputs": [
    {
     "name": "stdout",
     "output_type": "stream",
     "text": [
      "共分散\n",
      " -0.5102040816326531 \n",
      " -0.5952380952380949\n"
     ]
    }
   ],
   "source": [
    "data1 = [2, 5, 3, 10, 7, 2, 10]\n",
    "data2 = [9, 3, 1, 8, 4, 11, 7]\n",
    "\n",
    "print(\"共分散\\n\", cov(data1, data2), \"\\n\", np.cov(data1, data2)[0][1])\n"
   ]
  }
 ],
 "metadata": {
  "kernelspec": {
   "display_name": "Python 3",
   "language": "python",
   "name": "python3"
  },
  "language_info": {
   "codemirror_mode": {
    "name": "ipython",
    "version": 3
   },
   "file_extension": ".py",
   "mimetype": "text/x-python",
   "name": "python",
   "nbconvert_exporter": "python",
   "pygments_lexer": "ipython3",
   "version": "3.10.7"
  },
  "orig_nbformat": 4,
  "vscode": {
   "interpreter": {
    "hash": "607db476e417971f05b607c2dd14e77ee8262c2c4c20dea422522c60605a222a"
   }
  }
 },
 "nbformat": 4,
 "nbformat_minor": 2
}
