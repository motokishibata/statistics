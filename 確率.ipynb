{
 "cells": [
  {
   "cell_type": "code",
   "execution_count": 49,
   "metadata": {},
   "outputs": [
    {
     "name": "stdout",
     "output_type": "stream",
     "text": [
      "        オス  メス\n",
      "劇       10  10\n",
      "ダンス     15  15\n",
      "和太鼓     25   2\n",
      "ミュージカル   5  10\n",
      "群読       5   3\n"
     ]
    }
   ],
   "source": [
    "import pandas as pd\n",
    "df = pd.DataFrame({\n",
    "    '劇':[10,10],\n",
    "    'ダンス':[15,15],\n",
    "    '和太鼓':[25,2],\n",
    "    'ミュージカル':[5,10],\n",
    "    '群読':[5,3],\n",
    "}, index=['オス', 'メス']).transpose()\n",
    "\n",
    "print(df)"
   ]
  },
  {
   "cell_type": "code",
   "execution_count": 50,
   "metadata": {},
   "outputs": [
    {
     "name": "stdout",
     "output_type": "stream",
     "text": [
      "オス猫総数:60\n",
      "メス猫総数:40\n",
      "猫総数:100\n"
     ]
    }
   ],
   "source": [
    "womans_total = df['メス'].sum()\n",
    "mans_total = df['オス'].sum()\n",
    "cats_total = mans_total + womans_total\n",
    "print('オス猫総数:' + str(mans_total))\n",
    "print('メス猫総数:' + str(womans_total))\n",
    "print('猫総数:' + str(cats_total))"
   ]
  },
  {
   "cell_type": "code",
   "execution_count": 51,
   "metadata": {},
   "outputs": [
    {
     "name": "stdout",
     "output_type": "stream",
     "text": [
      "100匹の中からランダムに選ばれた猫が「オス」であったとき、選ばれた1匹が「劇をやってみたい」と答える確率\n",
      "0.16666666666666669\n"
     ]
    }
   ],
   "source": [
    "man = mans_total / cats_total\n",
    "man_show = df.loc['劇', 'オス']\n",
    "show = man_show / cats_total\n",
    "result = show / man\n",
    "print('100匹の中からランダムに選ばれた猫が「オス」であったとき、選ばれた1匹が「劇をやってみたい」と答える確率')\n",
    "print(result)"
   ]
  }
 ],
 "metadata": {
  "kernelspec": {
   "display_name": "Python 3.10.7 64-bit",
   "language": "python",
   "name": "python3"
  },
  "language_info": {
   "codemirror_mode": {
    "name": "ipython",
    "version": 3
   },
   "file_extension": ".py",
   "mimetype": "text/x-python",
   "name": "python",
   "nbconvert_exporter": "python",
   "pygments_lexer": "ipython3",
   "version": "3.10.7"
  },
  "orig_nbformat": 4,
  "vscode": {
   "interpreter": {
    "hash": "607db476e417971f05b607c2dd14e77ee8262c2c4c20dea422522c60605a222a"
   }
  }
 },
 "nbformat": 4,
 "nbformat_minor": 2
}
