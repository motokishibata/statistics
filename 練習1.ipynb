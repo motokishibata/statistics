{
 "cells": [
  {
   "attachments": {},
   "cell_type": "markdown",
   "metadata": {},
   "source": [
    "### 歪度(わいど)の計算方法\n",
    "歪度とは分布が正規分布からどれだけ歪んでいるかを表す統計量。左右対称性を示す指標。\n",
    "- サンプルサイズ = $ n $\n",
    "- 各データ $ x_i(i: 1,2,・・・,n) $ の平均値 = $ \\overline{x} $\n",
    "- 標準偏差 = $ s $\n",
    "とした場合の歪度は次の式で求められる。\n",
    "\n",
    "$$\n",
    "    \\frac{n}{(n - 1)(n - 2)}\\sum_{i=1}^{n}\\left(\\frac{x_i - \\overline{x}}{s}\\right)^3\n",
    "$$"
   ]
  },
  {
   "cell_type": "code",
   "execution_count": 11,
   "metadata": {},
   "outputs": [
    {
     "name": "stdout",
     "output_type": "stream",
     "text": [
      "5.211525688318153\n",
      "5.211525688318153\n",
      "104.15461157210478\n",
      "0.2976589197851629\n"
     ]
    }
   ],
   "source": [
    "import numpy as np\n",
    "\n",
    "def skewness(data):\n",
    "    # サンプルサイズ\n",
    "    n = len(data)\n",
    "    sum = 0\n",
    "    for d in data:\n",
    "        sum += d\n",
    "\n",
    "    # 各データの平均値\n",
    "    mean = sum / n \n",
    "\n",
    "    dev_sum = 0\n",
    "    for d in data:\n",
    "        # 偏差\n",
    "        deviation = d - mean\n",
    "        dev_sum += deviation**2\n",
    "\n",
    "    # 分散\n",
    "    variance = dev_sum / n\n",
    "    # 標準偏差\n",
    "    s = variance**0.5\n",
    "    print(np.std(data))\n",
    "    print(s)\n",
    "\n",
    "    unary1 = n / (n - 1) * (n - 2)\n",
    "    unary2 = 0\n",
    "    for d in data:\n",
    "        tmp = ((d - mean) / s)**3\n",
    "        unary2 += tmp\n",
    "    \n",
    "    return unary1 * unary2\n",
    "        \n",
    "data = [1, 2, 2, 3, 4, 5, 5, 6, 7, 8, 9, 10, 11, 13, 13, 13, 13, 15, 16, 20]\n",
    "print(skewness(data))\n",
    "\n",
    "import pandas as pd\n",
    "df = pd.DataFrame(data)\n",
    "skew = df[0].skew()\n",
    "print(skew)"
   ]
  }
 ],
 "metadata": {
  "kernelspec": {
   "display_name": "Python 3",
   "language": "python",
   "name": "python3"
  },
  "language_info": {
   "codemirror_mode": {
    "name": "ipython",
    "version": 3
   },
   "file_extension": ".py",
   "mimetype": "text/x-python",
   "name": "python",
   "nbconvert_exporter": "python",
   "pygments_lexer": "ipython3",
   "version": "3.10.7"
  },
  "orig_nbformat": 4,
  "vscode": {
   "interpreter": {
    "hash": "607db476e417971f05b607c2dd14e77ee8262c2c4c20dea422522c60605a222a"
   }
  }
 },
 "nbformat": 4,
 "nbformat_minor": 2
}
