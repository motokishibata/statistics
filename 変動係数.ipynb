{
 "cells": [
  {
   "cell_type": "code",
   "execution_count": 16,
   "metadata": {},
   "outputs": [],
   "source": [
    "tree1 = [12,15,15,12,13,14]\n",
    "tree2 = [4,5,3,5]\n",
    "tree3 = [0.8, 1.2, 1.0, 1.6, 0.7]"
   ]
  },
  {
   "cell_type": "code",
   "execution_count": 17,
   "metadata": {},
   "outputs": [
    {
     "name": "stdout",
     "output_type": "stream",
     "text": [
      "平均1： 13.5  平均2： 4.25  平均3： 1.06\n",
      "分散1： 1.5833333333333333  分散2： 0.6875  分散3： 0.10240000000000002\n",
      "標準偏差1： 1.2583057392117916  標準偏差2： 0.82915619758885  標準偏差3： 0.32\n"
     ]
    }
   ],
   "source": [
    "from lib import calc\n",
    "\n",
    "data1 = calc(tree1)\n",
    "data2 = calc(tree2)\n",
    "data3 = calc(tree3)\n",
    "print(\"平均1：\", data1[0], \" 平均2：\", data2[0], \" 平均3：\", data3[0])\n",
    "print(\"分散1：\", data1[1], \" 分散2：\", data2[1], \" 分散3：\", data3[1])\n",
    "print(\"標準偏差1：\", data1[2], \" 標準偏差2：\", data2[2], \" 標準偏差3：\", data3[2])"
   ]
  },
  {
   "cell_type": "code",
   "execution_count": 18,
   "metadata": {},
   "outputs": [
    {
     "name": "stdout",
     "output_type": "stream",
     "text": [
      "変動係数1： 0.09320783253420678  変動係数2： 0.19509557590325882  変動係数3： 0.3018867924528302\n"
     ]
    }
   ],
   "source": [
    "coefficient1 = data1[2] / data1[0]\n",
    "coefficient2 = data2[2] / data2[0]\n",
    "coefficient3 = data3[2] / data3[0]\n",
    "\n",
    "print(\"変動係数1：\", coefficient1, \" 変動係数2：\", coefficient2, \" 変動係数3：\", coefficient3)"
   ]
  }
 ],
 "metadata": {
  "kernelspec": {
   "display_name": "Python 3.10.7 64-bit",
   "language": "python",
   "name": "python3"
  },
  "language_info": {
   "codemirror_mode": {
    "name": "ipython",
    "version": 3
   },
   "file_extension": ".py",
   "mimetype": "text/x-python",
   "name": "python",
   "nbconvert_exporter": "python",
   "pygments_lexer": "ipython3",
   "version": "3.10.7"
  },
  "orig_nbformat": 4,
  "vscode": {
   "interpreter": {
    "hash": "607db476e417971f05b607c2dd14e77ee8262c2c4c20dea422522c60605a222a"
   }
  }
 },
 "nbformat": 4,
 "nbformat_minor": 2
}
