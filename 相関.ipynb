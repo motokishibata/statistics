{
 "cells": [
  {
   "cell_type": "code",
   "execution_count": 3,
   "metadata": {},
   "outputs": [],
   "source": [
    "import pandas as pd\n",
    "df = pd.DataFrame({\n",
    "    '玉入れ':[10,20,4],\n",
    "    '綱引き':[150,30,8],\n",
    "    'リレー':[50,15,1],\n",
    "    '毛糸玉ころがし':[75,25,5],\n",
    "    'にぼし食い競走':[60,30,5],\n",
    "    'ムカデ競走':[125,35,9],\n",
    "    '騎馬戦':[200,40,15],\n",
    "}).transpose()\n",
    "\n",
    "df.columns = ['参加匹数', '競技時間(分)', '怪我した猫(匹)']"
   ]
  },
  {
   "cell_type": "code",
   "execution_count": 6,
   "metadata": {},
   "outputs": [
    {
     "data": {
      "text/plain": [
       "<matplotlib.collections.PathCollection at 0x1ff7e8919f0>"
      ]
     },
     "execution_count": 6,
     "metadata": {},
     "output_type": "execute_result"
    },
    {
     "data": {
      "image/png": "[encoded data removed]",
      "text/plain": [
       "<Figure size 640x480 with 1 Axes>"
      ]
     },
     "metadata": {},
     "output_type": "display_data"
    }
   ],
   "source": [
    "import matplotlib.pyplot as plt\n",
    "\n",
    "plt.scatter(df['参加匹数'], df['競技時間(分)'])"
   ]
  },
  {
   "cell_type": "markdown",
   "metadata": {},
   "source": [
    "相関係数を求める公式\n",
    "\n",
    "$$\n",
    "    r_{xy} = \\frac{\\frac{1}{n} \\sum_{i=1}^{n}(x_{i} - \\overline{x})(y_{i} - \\overline{y})}\n",
    "    {\\sqrt{\\frac{1}{n}\\sum_{i=1}^{n}(x_{i} - \\overline{x})^2} × \\sqrt{\\frac{1}{n}\\sum_{i=1}^{n}(y_{i} - \\overline{y})^2}}\n",
    "$$"
   ]
  },
  {
   "cell_type": "code",
   "execution_count": 25,
   "metadata": {},
   "outputs": [
    {
     "name": "stdout",
     "output_type": "stream",
     "text": [
      "3688.7755102040815\n",
      "63.26530612244898\n",
      "405.1020408163265\n"
     ]
    }
   ],
   "source": [
    "n = len(df) #行数\n",
    "avgx = df['参加匹数'].mean()\n",
    "avgy = df['競技時間(分)'].mean()\n",
    "\n",
    "fx = lambda x: (x - avgx)**2\n",
    "sumx = (1/n) * df['参加匹数'].map(fx).sum()\n",
    "\n",
    "fy = lambda x: (x - avgy)**2\n",
    "sumy = (1/n) * df['競技時間(分)'].map(fy).sum()\n",
    "\n",
    "print(sumx)\n",
    "print(sumy)\n",
    "\n",
    "sumd = 0\n",
    "for index, row in df.iterrows():\n",
    "    sumd += (row[0] - avgx) * (row[1] - avgy)\n",
    "sumd = (1/n) * sumd\n",
    "\n",
    "print(sumd)"
   ]
  },
  {
   "cell_type": "code",
   "execution_count": 26,
   "metadata": {},
   "outputs": [
    {
     "name": "stdout",
     "output_type": "stream",
     "text": [
      "相関係数\n",
      "0.8385722974019164\n"
     ]
    }
   ],
   "source": [
    "print('相関係数')\n",
    "val = sumd / (sumx * sumy)**0.5\n",
    "print(val)"
   ]
  }
 ],
 "metadata": {
  "kernelspec": {
   "display_name": "Python 3.10.7 64-bit",
   "language": "python",
   "name": "python3"
  },
  "language_info": {
   "codemirror_mode": {
    "name": "ipython",
    "version": 3
   },
   "file_extension": ".py",
   "mimetype": "text/x-python",
   "name": "python",
   "nbconvert_exporter": "python",
   "pygments_lexer": "ipython3",
   "version": "3.10.7"
  },
  "orig_nbformat": 4,
  "vscode": {
   "interpreter": {
    "hash": "607db476e417971f05b607c2dd14e77ee8262c2c4c20dea422522c60605a222a"
   }
  }
 },
 "nbformat": 4,
 "nbformat_minor": 2
}
